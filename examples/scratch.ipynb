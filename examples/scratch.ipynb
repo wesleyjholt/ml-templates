{
 "cells": [
  {
   "cell_type": "code",
   "execution_count": 1,
   "metadata": {},
   "outputs": [],
   "source": [
    "import jax\n",
    "import jax.numpy as jnp\n",
    "import jax.random as jrandom\n",
    "import equinox as eqx\n",
    "\n",
    "from ml_templates.pytree_factory import PyTreeFactory"
   ]
  },
  {
   "cell_type": "code",
   "execution_count": 2,
   "metadata": {},
   "outputs": [],
   "source": [
    "class StandardScaler(eqx.Module):\n",
    "    \"\"\"Standardize input data by removing the mean and scaling to unit variance.\"\"\"\n",
    "    mean: float = eqx.field(default_factory=lambda: jnp.array(0.0))\n",
    "    std: float = eqx.field(default_factory=lambda: jnp.array(1.0))\n",
    "\n",
    "    @classmethod\n",
    "    def fit(cls, data, axis=None):\n",
    "        mean = data.mean(axis=axis)\n",
    "        std = data.std(axis=axis)\n",
    "        return cls(mean, std)\n",
    "\n",
    "    def forward(self, data):\n",
    "        return (data - self.mean) / self.std\n",
    "\n",
    "    def inverse(self, data):\n",
    "        return data * self.std + self.mean\n",
    "\n",
    "class UnscaledModel(eqx.Module):\n",
    "    \"\"\"A model that scales its input before passing it to another model.\"\"\"\n",
    "    scaled_model: eqx.Module\n",
    "    input_scaler: StandardScaler\n",
    "    output_scaler: StandardScaler\n",
    "\n",
    "    def __call__(self, x):\n",
    "        x = self.input_scaler.forward(x)\n",
    "        x = self.scaled_model(x)\n",
    "        return self.output_scaler.inverse(x)"
   ]
  },
  {
   "cell_type": "code",
   "execution_count": 3,
   "metadata": {},
   "outputs": [],
   "source": [
    "def make_mlp(**kwargs):\n",
    "    if 'seed' not in kwargs:\n",
    "        kwargs['seed'] = 0\n",
    "    if 'activation' not in kwargs:\n",
    "        kwargs['activation'] = jax.nn.gelu\n",
    "    kwargs['key'] = jrandom.PRNGKey(kwargs.pop('seed'))\n",
    "    return eqx.nn.MLP(**kwargs)\n",
    "\n",
    "def make_standard_scaler(shape=()):\n",
    "    return StandardScaler(mean=jnp.zeros(shape), std=jnp.ones(shape))\n",
    "\n",
    "# TODO: register subfactory method? A subfactory for unscaled models? Or register upstream factories?\n",
    "# def make_unscaled_model(\n",
    "#     scaled_model_gen_and_hyp,\n",
    "#     input_scaler_gen_and_hyp,\n",
    "#     output_scaler_gen_and_hyp\n",
    "# ):\n",
    "#     # Helper function\n",
    "#     def _generate(gen_and_hyp):\n",
    "#         generator_name, hyperparams = gen_and_hyp\n",
    "#         return self.generate(generator_name, hyperparams)\n",
    "    \n",
    "#     # Use factory to generate the contents of the injection model\n",
    "#     scaled_model = _generate(scaled_model_gen_and_hyp)\n",
    "#     input_scaler = _generate(input_scaler_gen_and_hyp)\n",
    "#     output_scaler = _generate(output_scaler_gen_and_hyp)\n",
    "    \n",
    "#     return UnscaledModel(scaled_model=scaled_model, input_scaler=input_scaler, output_scaler=output_scaler)\n",
    "\n"
   ]
  },
  {
   "cell_type": "code",
   "execution_count": null,
   "metadata": {},
   "outputs": [],
   "source": []
  },
  {
   "cell_type": "code",
   "execution_count": 4,
   "metadata": {},
   "outputs": [],
   "source": [
    "scaler_factory = PyTreeFactory()\n",
    "scaler_factory.register_generator('standard', StandardScaler)\n",
    "\n",
    "nn_factory = PyTreeFactory()\n",
    "nn_factory.register_generator('mlp', make_mlp)\n",
    "\n",
    "# model_factory = PyTreeFactory(parent_factories={'scaler': scaler_factory, 'nn': nn_factory})\n",
    "# model_factory.register_generator('unscaled_model', make_unscaled_model)\n",
    "\n",
    "# hyperparams = dict(\n",
    "\n",
    "# )\n",
    "# model_factory.generate(\"unscaled_model\")\n",
    "\n",
    "class ModelFactory(PyTreeFactory):\n",
    "    def __init__(self):\n",
    "        self.parent_factories = {\"nn\": nn_factory, \"scaler\": scaler_factory}\n",
    "        self.generators = {\"unscaled_model\": self.make_unscaled_model}\n",
    "\n",
    "    def make_unscaled_model(\n",
    "        self,\n",
    "        scaled_model_gen_name,\n",
    "        scaled_model_hyperparams,\n",
    "        input_scaler_gen_name,\n",
    "        input_scaler_hyperparams,\n",
    "        output_scaler_gen_name,\n",
    "        output_scaler_hyperparams,\n",
    "    ):  \n",
    "        # Use factory to generate the contents of the unscaled model\n",
    "        scaled_model = self.parent_factories[\"nn\"].generate(scaled_model_gen_name, scaled_model_hyperparams)\n",
    "        input_scaler = self.parent_factories[\"scaler\"].generate(input_scaler_gen_name, input_scaler_hyperparams)\n",
    "        output_scaler = self.parent_factories[\"scaler\"].generate(output_scaler_gen_name, output_scaler_hyperparams)\n",
    "        \n",
    "        # Create unscaled model\n",
    "        return UnscaledModel(scaled_model=scaled_model, input_scaler=input_scaler, output_scaler=output_scaler)"
   ]
  },
  {
   "cell_type": "code",
   "execution_count": 17,
   "metadata": {},
   "outputs": [],
   "source": [
    "model_factory = ModelFactory()\n",
    "unscaled_model_hyperparams = dict(\n",
    "    scaled_model_gen_name=\"mlp\",\n",
    "    scaled_model_hyperparams=dict(in_size=3, out_size=2, width_size=30, depth=3),\n",
    "    input_scaler_gen_name=\"standard\",\n",
    "    input_scaler_hyperparams=dict(mean=[1., 2., 3.], std=0.1),\n",
    "    output_scaler_gen_name=\"standard\",\n",
    "    output_scaler_hyperparams=dict(mean=[100., 200., 300.], std=10.0),\n",
    ")\n",
    "unscaled_model = model_factory.generate(\"unscaled_model\", unscaled_model_hyperparams)"
   ]
  },
  {
   "cell_type": "code",
   "execution_count": 21,
   "metadata": {},
   "outputs": [],
   "source": [
    "model_factory.save_pytree(unscaled_model, \"unscaled_model.eqx\", \"unscaled_model\", unscaled_model_hyperparams)\n",
    "loaded_unscaled_model = model_factory.load_pytree(\"unscaled_model.eqx\")"
   ]
  },
  {
   "cell_type": "code",
   "execution_count": 22,
   "metadata": {},
   "outputs": [
    {
     "data": {
      "text/plain": [
       "Array(True, dtype=bool)"
      ]
     },
     "execution_count": 22,
     "metadata": {},
     "output_type": "execute_result"
    }
   ],
   "source": [
    "eqx.tree_equal(unscaled_model, loaded_unscaled_model)"
   ]
  },
  {
   "cell_type": "code",
   "execution_count": null,
   "metadata": {},
   "outputs": [],
   "source": [
    "class NestedFactory(PyTreeFactory):\n",
    "    def __init__(self, *args, **kwargs):\n",
    "        super().__init__(*args, **kwargs)\n",
    "        self.register_generator('mlp', make_mlp)\n",
    "        self.register_generator('standard_scaler', make_standard_scaler)\n",
    "        self.register_subfactory('unscaled_model', make_unscaled_model)\n",
    "\n",
    "    def make_unscaled_model(self, scaled_model_gen_and_hyp, input_scaler_gen_and_hyp, output_scaler_gen_and_hyp):\n",
    "        return self.generate('unscaled_model', (scaled_model_gen_and_hyp, input_scaler_gen_and_hyp, output_scaler_gen_and_hyp))"
   ]
  },
  {
   "cell_type": "code",
   "execution_count": 13,
   "metadata": {},
   "outputs": [],
   "source": [
    "my_factory = PyTreeFactory()    \n",
    "my_factory.register_generator(\"make_mlp\", make_mlp)\n",
    "my_factory.register_generator(\"make_standard_scaler\", make_standard_scaler)\n",
    "my_factory.register_generator(\"make_unscaled_model\", make_unscaled_model)"
   ]
  },
  {
   "cell_type": "code",
   "execution_count": 14,
   "metadata": {},
   "outputs": [
    {
     "data": {
      "text/plain": [
       "MLP(\n",
       "  layers=(\n",
       "    Linear(\n",
       "      weight=f32[30,3],\n",
       "      bias=f32[30],\n",
       "      in_features=3,\n",
       "      out_features=30,\n",
       "      use_bias=True\n",
       "    ),\n",
       "    Linear(\n",
       "      weight=f32[30,30],\n",
       "      bias=f32[30],\n",
       "      in_features=30,\n",
       "      out_features=30,\n",
       "      use_bias=True\n",
       "    ),\n",
       "    Linear(\n",
       "      weight=f32[30,30],\n",
       "      bias=f32[30],\n",
       "      in_features=30,\n",
       "      out_features=30,\n",
       "      use_bias=True\n",
       "    ),\n",
       "    Linear(\n",
       "      weight=f32[2,30],\n",
       "      bias=f32[2],\n",
       "      in_features=30,\n",
       "      out_features=2,\n",
       "      use_bias=True\n",
       "    )\n",
       "  ),\n",
       "  activation=<function gelu>,\n",
       "  final_activation=<function <lambda>>,\n",
       "  use_bias=True,\n",
       "  use_final_bias=True,\n",
       "  in_size=3,\n",
       "  out_size=2,\n",
       "  width_size=30,\n",
       "  depth=3\n",
       ")"
      ]
     },
     "execution_count": 14,
     "metadata": {},
     "output_type": "execute_result"
    }
   ],
   "source": [
    "my_factory.generate(\"make_mlp\", dict(in_size=3, out_size=2, width_size=30, depth=3))"
   ]
  }
 ],
 "metadata": {
  "kernelspec": {
   "display_name": ".venv",
   "language": "python",
   "name": "python3"
  },
  "language_info": {
   "codemirror_mode": {
    "name": "ipython",
    "version": 3
   },
   "file_extension": ".py",
   "mimetype": "text/x-python",
   "name": "python",
   "nbconvert_exporter": "python",
   "pygments_lexer": "ipython3",
   "version": "3.11.9"
  }
 },
 "nbformat": 4,
 "nbformat_minor": 2
}
